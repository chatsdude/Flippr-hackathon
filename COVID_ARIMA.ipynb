{
  "nbformat": 4,
  "nbformat_minor": 0,
  "metadata": {
    "colab": {
      "name": "COVID_ARIMA.ipynb",
      "provenance": [],
      "mount_file_id": "1W_w8RIG4dCkKKBcKXNwuV1xf9bizrR78",
      "authorship_tag": "ABX9TyMKDYqW1Ju2KbZJxB/Nq9OY",
      "include_colab_link": true
    },
    "kernelspec": {
      "name": "python3",
      "display_name": "Python 3"
    },
    "accelerator": "GPU"
  },
  "cells": [
    {
      "cell_type": "markdown",
      "metadata": {
        "id": "view-in-github",
        "colab_type": "text"
      },
      "source": [
        "<a href=\"https://colab.research.google.com/github/chatsdude/Flippr-hackathon/blob/master/COVID_ARIMA.ipynb\" target=\"_parent\"><img src=\"https://colab.research.google.com/assets/colab-badge.svg\" alt=\"Open In Colab\"/></a>"
      ]
    },
    {
      "cell_type": "code",
      "metadata": {
        "id": "kgqD8umlOK8G",
        "colab_type": "code",
        "colab": {}
      },
      "source": [
        "from pandas import datetime\n",
        "import pandas as pd\n",
        "import matplotlib.pyplot as plt\n",
        "\n",
        "\n",
        "path = r\"/content/drive/My Drive/Hackathon_data/Test_dataset - Foreign_Visitors_TS.csv\""
      ],
      "execution_count": null,
      "outputs": []
    },
    {
      "cell_type": "code",
      "metadata": {
        "id": "OkfU8ALuOncH",
        "colab_type": "code",
        "colab": {}
      },
      "source": [
        "import pandas as pd\n",
        "list_col = ['City','April','May','June','July','Aug']\n",
        "mydata=pd.read_csv(path,names=list_col,index_col=False)\n",
        "mydata =mydata[2:]\n",
        "\n",
        "\n",
        "mydata"
      ],
      "execution_count": null,
      "outputs": []
    },
    {
      "cell_type": "code",
      "metadata": {
        "id": "z4ux30kcSzXk",
        "colab_type": "code",
        "colab": {}
      },
      "source": [
        "mydata.loc[mydata['City'] == 'Zira']['April'] == 140582\n"
      ],
      "execution_count": null,
      "outputs": []
    },
    {
      "cell_type": "code",
      "metadata": {
        "id": "VyAF7ggnOsjo",
        "colab_type": "code",
        "colab": {
          "base_uri": "https://localhost:8080/",
          "height": 72
        },
        "outputId": "897247f1-dbfe-48c6-fd85-13be7ffef6d1"
      },
      "source": [
        "from statsmodels.tsa.arima_model import ARIMA\n",
        "\n",
        "def Cal(city):\n",
        "  x=mydata.loc[mydata['City'] == list(mydata[city])]\n",
        "  print(x)\n",
        "  del list(x.columns)[1]\n",
        "  col = (list(x.columns))\n",
        "  col\n",
        "  x=mydata.loc[mydata['City'] == list(mydata[city])]\n",
        "  X=[]\n",
        "  list_col = ['City','April','May','June','July','Aug']\n",
        "  for i in range(1,int(len(list_col))):\n",
        "    X.append((x[list_col[i]]))\n",
        "\n",
        "  date=list_col[1:]\n",
        "  # plt.plot(date,X)\n",
        "  df={'date':date , 'Count': X}\n",
        "\n",
        "  f_data = pd.DataFrame.from_dict(df)\n",
        "  f_data[1:]\n",
        "  train=f_data['Count']\n",
        "\n",
        "  train = list(train)\n",
        "  train = [float(i) for i in train]\n",
        "\n",
        "\n",
        "  model_arima = ARIMA(train,order=(0,2,1))\n",
        "  model_arima_fit = model_arima.fit()\n",
        "\n",
        "\n",
        "  print(\"AIC value = \",model_arima_fit.aic)\n",
        "  predictions_arima= model_arima_fit.forecast(steps=1)[0]\n",
        "  print((predictions_arima))\n",
        "  train.insert(len(train),(predictions_arima))\n",
        "\n",
        "  plt.plot(train)\n",
        "  return train"
      ],
      "execution_count": null,
      "outputs": [
        {
          "output_type": "stream",
          "text": [
            "/usr/local/lib/python3.6/dist-packages/statsmodels/tools/_testing.py:19: FutureWarning: pandas.util.testing is deprecated. Use the functions in the public API at pandas.testing instead.\n",
            "  import pandas.util.testing as tm\n"
          ],
          "name": "stderr"
        }
      ]
    },
    {
      "cell_type": "code",
      "metadata": {
        "id": "gnBO4uqpT_Fg",
        "colab_type": "code",
        "colab": {
          "base_uri": "https://localhost:8080/",
          "height": 121
        },
        "outputId": "4bd0c397-bf3e-4807-ebf8-960f1a66887c"
      },
      "source": [
        ""
      ],
      "execution_count": null,
      "outputs": [
        {
          "output_type": "stream",
          "text": [
            "         City   April     May    June    July     Aug\n",
            "18  Malavalli  369179  445559  541045  572860  636502\n",
            "['City', 'April', 'May', 'June', 'July', 'Aug']\n",
            "{'date': ['April', 'May', 'June', 'July', 'Aug'], 'Count': [369179, 445559, 541045, 572860, 636502]}\n",
            "{'Malavalli': array([695898.])}\n"
          ],
          "name": "stdout"
        },
        {
          "output_type": "execute_result",
          "data": {
            "text/plain": [
              "array([695898.])"
            ]
          },
          "metadata": {
            "tags": []
          },
          "execution_count": 4
        }
      ]
    },
    {
      "cell_type": "code",
      "metadata": {
        "id": "w5qIBP63ZRHW",
        "colab_type": "code",
        "colab": {}
      },
      "source": [
        "spet_data=[]\n",
        "k=0\n",
        "\n",
        "for i in range(0,int(len(mydata))):\n",
        "  print(i)\n",
        "  Cal(str(list(mydata['City'])[i]))\n",
        "  if k==100:\n",
        "    break"
      ],
      "execution_count": null,
      "outputs": []
    },
    {
      "cell_type": "code",
      "metadata": {
        "id": "ooMV5VAsTFvw",
        "colab_type": "code",
        "colab": {
          "base_uri": "https://localhost:8080/",
          "height": 34
        },
        "outputId": "b32e7e89-d0c4-4951-aebb-0d2cebc5e16a"
      },
      "source": [
        "import numpy as np  \n",
        "import matplotlib.pyplot as plt  \n",
        "import seaborn as seabornInstance \n",
        "from sklearn.model_selection import train_test_split \n",
        "from sklearn.linear_model import LinearRegression\n",
        "from sklearn import metrics\n",
        "%matplotlib inline\n",
        "\n",
        "\n",
        "d=(mydata.loc[mydata['City'] == list(mydata['City'])[7]])\n",
        "train=[]\n",
        "for i in (d):\n",
        "  train.append(list(d[i]))\n",
        "\n",
        "\n",
        "regressor = LinearRegression()  \n",
        "# regressor.fit(train, list_col) #training the algorithm\n",
        "\n",
        "train"
      ],
      "execution_count": null,
      "outputs": [
        {
          "output_type": "execute_result",
          "data": {
            "text/plain": [
              "[['Sadasivpet'], [nan], ['88263'], ['107184'], ['113478'], ['126078']]"
            ]
          },
          "metadata": {
            "tags": []
          },
          "execution_count": 7
        }
      ]
    },
    {
      "cell_type": "code",
      "metadata": {
        "id": "AEBzC-2wJ8TK",
        "colab_type": "code",
        "colab": {}
      },
      "source": [
        "import itertools\n",
        "p=d=q=range(0,5)\n",
        "pdq = list(itertools.product(p,d,q))\n",
        "import warnings\n",
        "warnings.filterwarnings('ignore')\n",
        "for param in pdq:\n",
        "  model_arima = ARIMA(train,order=param)\n",
        "  model_arima_fit = model_arima.fit()\n",
        "  print(param,model_arima_fit.aic)\n",
        "  print(model_arima_fit.aic)\n",
        "                \n",
        "\n",
        "   "
      ],
      "execution_count": null,
      "outputs": []
    }
  ]
}